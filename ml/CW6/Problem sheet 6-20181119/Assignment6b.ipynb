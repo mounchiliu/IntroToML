{
 "cells": [
  {
   "cell_type": "markdown",
   "metadata": {},
   "source": [
    "# 2. Training a convolutional neural network for handwritten digit recognition \n",
    "\n",
    "## MNIST data set\n",
    "\n",
    "The MNIST dataset was constructed by the US National Institute of Standards and Technology (NIST). The training set consists of handwritten digits from 250 different people, 50 percent high school students, and 50 percent employees from the Census Bureau. The test set contains handwritten digits from different people following the same split.\n",
    "\n",
    "The training dataset consists of 60,000 training digits (0-9) and the test set contains 10,000 samples, respectively. The images in the MNIST dataset consist of 28x28 pixels, and each pixel is represented by a gray scale intensity value.\n",
    "\n",
    "## Building a neural network\n",
    "\n",
    "For this part of the assignment, your task is to train a Convolutional Neural Network (CNN) for handwritten digit recognition using PyTorch. Most of the code that implements the CNN is given to you. You are required to fill in the missing lines of code, for which you will need to make sure that you have read and understood what the code does.\n",
    "\n"
   ]
  },
  {
   "cell_type": "markdown",
   "metadata": {},
   "source": [
    "### Importing and preprocessing the data set\n",
    "\n",
    "\n",
    "The `torchvision` package already provides data loaders for common datasets such as MNIST, Imagenet, CIFAR10 etc. and data transformers, which we will use below to load and normalize our dataset."
   ]
  },
  {
   "cell_type": "code",
   "execution_count": 1,
   "metadata": {},
   "outputs": [],
   "source": [
    "import torch\n",
    "import torchvision\n",
    "import torchvision.transforms as transforms\n",
    "\n",
    "# Convert the data to Tensor and normalise by the mean (0.1307) \n",
    "# and std (0.3081) of the data set\n",
    "transform = transforms.Compose([transforms.ToTensor(), \n",
    "                                transforms.Normalize((0.1307,), (0.3081,))])\n",
    "\n",
    "# Import and normalize the train set in mini-batches of 50 images\n",
    "train_set = torchvision.datasets.MNIST(root='./data', train=True,\n",
    "                                        download=True, transform=transform)\n",
    "train_set_loader = torch.utils.data.DataLoader(train_set, batch_size=50,\n",
    "                                              shuffle=True)\n",
    "\n",
    "# Import and normalize the test set in mini-batches of 50 images\n",
    "test_set = torchvision.datasets.MNIST(root='./data', train=False,\n",
    "                                        download=True, transform=transform)\n",
    "test_set_loader = torch.utils.data.DataLoader(test_set, batch_size=50,\n",
    "                                              shuffle=True)"
   ]
  },
  {
   "cell_type": "markdown",
   "metadata": {},
   "source": [
    "### Data visualisation\n",
    "\n",
    "Next, we will visualise some examples of images to get a better idea of how the dataset looks."
   ]
  },
  {
   "cell_type": "code",
   "execution_count": 2,
   "metadata": {},
   "outputs": [
    {
     "data": {
      "text/plain": [
       "<Figure size 640x480 with 1 Axes>"
      ]
     },
     "metadata": {},
     "output_type": "display_data"
    }
   ],
   "source": [
    "# Import libraries for visualising\n",
    "import matplotlib.pyplot as plt\n",
    "import numpy as np\n",
    "\n",
    "# Load a batch of training images for visualising\n",
    "data_iterator = iter(train_set_loader)\n",
    "images, labels = data_iterator.next()\n",
    "\n",
    "# Create function for visualisation\n",
    "def show_image(img):\n",
    "    # revert the normalisation when displaying the images\n",
    "    img = img * 0.3081 + 0.1307\n",
    "    # Convert to numpy for visualisation\n",
    "    npimg = img.numpy()\n",
    "    # Plot each image\n",
    "    plt.imshow(np.transpose(npimg, (1, 2, 0)))\n",
    "\n",
    "\n",
    "# Plot images as a grid using the 'make_grid' function\n",
    "show_image(torchvision.utils.make_grid(images,10,5))\n",
    "plt.show()"
   ]
  },
  {
   "cell_type": "markdown",
   "metadata": {},
   "source": [
    "## Questions: Building a Convolutional Neural Network (CNN)\n",
    "\n",
    "Now that we have loaded, pre-processed and visualised our dataset we can start building the neural network for classification. For this, we will use the Pytorch framework.\n",
    "\n",
    "As in the previous assignments, we will start by creating a `Neural_Network` class. Inside the constructor (`__init__`) we define the layers of the neural network. The `forward` method defines the forward pass of the network. In the `train_net` method we define the loss function, the optimizer and then, for each epoch, we iterate through the mini-batches. For each mini-batch, we propagate the inputs forward, calculate the loss, propagate the loss backwards and finally update the weights. In addition to this, we also compute the loss and accuracy, which we average and save after every 300 mini-batches.\n",
    "\n",
    "Your task is to first read and understand the code and then do the following:\n",
    "\n",
    "- __Q1.__  Add the second convolutional layer (`conv2`) which takes as an input the output of the first layer (`conv1`). This layer should have 20 output filters of size 5x5.\n",
    "- __Q2.__  Add the final layer (`fc2`), which takes as an input the output of the previous fully connected layer (`fc1`). \n",
    "- __Q3.__ In the forward pass function, add a `log_softmax` activation function to the output of the final layer.\n",
    "- __Q4.__ Now that you have finished defining the architecture of the CNN, try and understand how each layer feeds into the next one by reading the `__init__` as well as the `forward` methods. For this, take into account that in order to pass the input of a convolutional layer to a fully connected layer you need to flatten the output of the convolutional layer and that each unit of the convolutional layer will be connected with every unit of the fully connected layer. Then explain in a short comment why the input of the first fully connected layer (`fc1`) is 320. Insert this comment in the space indicated at the end of the `forward` method. "
   ]
  },
  {
   "cell_type": "code",
   "execution_count": 12,
   "metadata": {},
   "outputs": [],
   "source": [
    "# Build the neural network using PyTorch\n",
    "from torch.autograd import Variable\n",
    "import torch.nn as nn\n",
    "import torch.nn.functional as F\n",
    "import torch.optim as optim\n",
    "np.random.seed(3)\n",
    "\n",
    "# Module is a base class for all neural network modules\n",
    "class Neural_Network(nn.Module):\n",
    "    \n",
    "    # Define the neural network layers\n",
    "    def __init__(self):\n",
    "        \n",
    "        super(Neural_Network, self).__init__()\n",
    "        \n",
    "        # Add the first convolutional layer. This is done using the Conv2d function.\n",
    "        # The 1st parameter specifies the number of input channels.\n",
    "        # The 2nd parameter specifies the number of output channels or filters.\n",
    "        # The 3rd parameter specifies the size of the convolutional kernel.\n",
    "        self.conv1 = nn.Conv2d(1, 10, kernel_size=5)\n",
    "        \n",
    "        # Add the second convolutional layer.\n",
    "        ###############  TO DO Q1 ############### \n",
    "        # it takes as an input the output of the first layer (conv1)\n",
    "        # This layer should have 20 output filters of size 5x5.\n",
    "        self.conv2 = nn.Conv2d(10, 20, kernel_size=5)\n",
    "\n",
    "        ###############  TO DO Q1 ###############  \n",
    "        \n",
    "        # Add the first fully connected layer. This is done using the Linear function.\n",
    "        # The 1st parameter specifies the size of the input.\n",
    "        # The 2nd parameter specifies the size of the output. \n",
    "        self.fc1 = nn.Linear(320, 50)\n",
    "        \n",
    "        # Add the second fully connected layer. \n",
    "        # it takes as an input the output of the previous fully connected layer (fc1)\n",
    "        ###############  TO DO Q2 ###############  \n",
    "        self.fc2 = nn.Linear(50, 10)\n",
    "\n",
    "        ###############  TO DO Q2 ###############  \n",
    "        \n",
    "        # Costs and accuracy attributes \n",
    "        self.losses = []\n",
    "        self.accuracies = []\n",
    "     \n",
    "\n",
    "    # Define the forward pass.    \n",
    "    def forward(self, x):\n",
    "\n",
    "        # Apply a 2D max pooling over the output of the 1st convolutional layer\n",
    "        x = F.max_pool2d(self.conv1(x), 2)\n",
    "        # Add a ReLU activation function to the 1st convolutional layer\n",
    "        x = F.relu(x)\n",
    "\n",
    "\n",
    "        \n",
    "        # Apply a 2D max pooling over the output of the 2nd convolutional layer\n",
    "        x = F.max_pool2d(self.conv2(x), 2)\n",
    "        # Add a ReLU activation function to the 2nd convolutional layer\n",
    "        x = F.relu(x)\n",
    "        \n",
    "        # Flatten the output of the 2nd convolutional layer to feed into the next layer\n",
    "        x = x.view(-1, 320)\n",
    "        # Add a ReLU activation function to the 1st fully connected layer\n",
    "        x = F.relu(self.fc1(x))\n",
    "        # Add a log softmax activation function to the final layer\n",
    "        ###############  TO DO Q3 ###############  \n",
    "        x = F.log_softmax(self.fc2(x),1)\n",
    "        ###############  TO DO Q3 ###############  \n",
    "        \n",
    "        return x\n",
    "    \n",
    "    ###############  TO DO Q4 ###############  \n",
    "    # Insert explanation here\n",
    "    \n",
    "    # Hint: You can see the size of a paritcular layer after every operation\n",
    "    # by inserting a 'print(x.size())' statement in the 'forward' function\n",
    "    '''\n",
    "    The image has the size of 28x28.  The kernel of the first convolutional layer has the size of 5x5.\n",
    "    Then we can know that the output of the first convolutional layer has the size of 24X24. (28-5+1) \n",
    "    \n",
    "    Then, we apply a 2D max pooling over the output of the first convolutional layer. The output has the size of 12x12.\n",
    "    \n",
    "    Similarly, we can know that the final ouput of the second convolutional layer has the size of 4x4. (12-5+1)/2\n",
    "    \n",
    "    Then, the each unit of the convolutional layer will be connected with every unit of the next fully connected layer.\n",
    "    As we know that the second convolutional layer should have 20 output filters.\n",
    "    \n",
    "    Therefore, the input of the first fully connected layer (fc1) is \n",
    "    4x4x20 = 320'''\n",
    "    \n",
    "    ###############  TO DO Q4 ###############  \n",
    "    \n",
    "    # Train the CNN\n",
    "    def train_net(self, train_set, no_epochs, lr, m):\n",
    "        \n",
    "        # Define the loss function as the negative log likelihood loss\n",
    "        loss_func = nn.NLLLoss()\n",
    "\n",
    "        # Define the optimizer as stochastic gradient descent\n",
    "        optimizer = optim.SGD(net.parameters(), lr = lr, momentum = m)\n",
    "\n",
    "        # Loop over the number of epochs\n",
    "        for epoch in range(no_epochs):\n",
    "\n",
    "            # Reset the current loss and accuracy to zero \n",
    "            current_loss = 0.0\n",
    "            current_accuracy = 0.0\n",
    "            \n",
    "            # Loop over each mini-batch\n",
    "            for batch_index, training_batch in enumerate(train_set, 0):\n",
    "                \n",
    "                # Load the mini-batch\n",
    "                inputs, labels = training_batch\n",
    "\n",
    "                # Wrap the images as Variable\n",
    "                inputs, labels = Variable(inputs), Variable(labels)\n",
    "\n",
    "                # Set the parameter gradients to zero\n",
    "                optimizer.zero_grad()\n",
    "\n",
    "                # Propagate the inputs forward\n",
    "                outputs = self.forward(inputs)\n",
    "                \n",
    "                # Calculate loss\n",
    "                loss = loss_func(outputs, labels)\n",
    "                \n",
    "                # Propagate backward using the .backward() function\n",
    "                loss.backward()\n",
    "                \n",
    "                # Update weights using the .step() function\n",
    "                optimizer.step()\n",
    "\n",
    "                # Add loss to the overall loss\n",
    "                current_loss += loss.item()\n",
    "                \n",
    "                # Compute the accuracy of the current batch\n",
    "                correct_pred = 0\n",
    "                total_pred = 0\n",
    "                for data in training_batch:\n",
    "                    images, labels = training_batch\n",
    "                    # Compute the predicted labels\n",
    "                    outputs = self.forward(Variable(images))\n",
    "                    dummy, pred_labels = torch.max(outputs.data, 1)\n",
    "                    \n",
    "                    # Count the correct predictions\n",
    "                    correct_pred += (pred_labels == labels).sum().item()\n",
    "                    total_pred += pred_labels.size(0)\n",
    "                    \n",
    "                # Add accuracy to the overall accuracy\n",
    "                current_accuracy += (100 * correct_pred)/total_pred\n",
    "\n",
    "\n",
    "                # Compute average batch loss and accuracy at every 300 batches \n",
    "                if batch_index % 300 == 299:\n",
    "                    \n",
    "                    # Display a message indicating where the training has reached\n",
    "                    print('[Epoch: %d Batch: %5d] loss: %.3f' % \n",
    "                          (epoch + 1, batch_index+1, current_loss / 300)) \n",
    "                    # Append the average loss and accuracy\n",
    "                    self.losses.append(current_loss/300)\n",
    "                    self.accuracies.append(current_accuracy/300)\n",
    "                    # Reset the current loss and accuracy for the next 300 batches\n",
    "                    current_loss = 0.0\n",
    "                    current_accuracy = 0.0\n",
    "\n",
    "\n",
    "        # Display a message once the training has finished        \n",
    "        print('Training has finished')"
   ]
  },
  {
   "cell_type": "markdown",
   "metadata": {},
   "source": [
    "### Create and train a CNN\n",
    "\n",
    "Now that we have defined the CNN, we can create a network and train it. "
   ]
  },
  {
   "cell_type": "code",
   "execution_count": 13,
   "metadata": {},
   "outputs": [
    {
     "name": "stdout",
     "output_type": "stream",
     "text": [
      "[Epoch: 1 Batch:   300] loss: 1.451\n",
      "[Epoch: 1 Batch:   600] loss: 0.342\n",
      "[Epoch: 1 Batch:   900] loss: 0.258\n",
      "[Epoch: 1 Batch:  1200] loss: 0.197\n",
      "[Epoch: 2 Batch:   300] loss: 0.175\n",
      "[Epoch: 2 Batch:   600] loss: 0.143\n",
      "[Epoch: 2 Batch:   900] loss: 0.125\n",
      "[Epoch: 2 Batch:  1200] loss: 0.117\n",
      "[Epoch: 3 Batch:   300] loss: 0.103\n",
      "[Epoch: 3 Batch:   600] loss: 0.101\n",
      "[Epoch: 3 Batch:   900] loss: 0.096\n",
      "[Epoch: 3 Batch:  1200] loss: 0.093\n",
      "[Epoch: 4 Batch:   300] loss: 0.078\n",
      "[Epoch: 4 Batch:   600] loss: 0.083\n",
      "[Epoch: 4 Batch:   900] loss: 0.079\n",
      "[Epoch: 4 Batch:  1200] loss: 0.075\n",
      "[Epoch: 5 Batch:   300] loss: 0.070\n",
      "[Epoch: 5 Batch:   600] loss: 0.066\n",
      "[Epoch: 5 Batch:   900] loss: 0.068\n",
      "[Epoch: 5 Batch:  1200] loss: 0.068\n",
      "Training has finished\n"
     ]
    }
   ],
   "source": [
    "# Create a neural network\n",
    "net = Neural_Network()\n",
    "\n",
    "# Set a number of epochs\n",
    "no_epochs = 5\n",
    "# Set the learning rate\n",
    "lr = 0.001\n",
    "# Set the momentum\n",
    "momentum = 0.9\n",
    "\n",
    "# Train the network using the parameter settings above\n",
    "net.train_net(train_set_loader, no_epochs, lr, momentum)    "
   ]
  },
  {
   "cell_type": "markdown",
   "metadata": {},
   "source": [
    "### Visualize the training loss and accuracy\n",
    "\n",
    "Once the training has finished, we can visualise the training accuracy and loss that we have computed in the `train_net` function as the average loss/accuracy after every 300 mini-batches."
   ]
  },
  {
   "cell_type": "code",
   "execution_count": 17,
   "metadata": {},
   "outputs": [
    {
     "data": {
      "image/png": "[encoded data removed]",
      "text/plain": [
       "<Figure size 1152x230.4 with 2 Axes>"
      ]
     },
     "metadata": {
      "needs_background": "light"
     },
     "output_type": "display_data"
    }
   ],
   "source": [
    "# Get the losses and accuracies\n",
    "training_loss = net.losses\n",
    "training_accuracy = net.accuracies\n",
    "\n",
    "# Plots the loss and accuracy evolution during training \n",
    "fig = plt.figure(figsize=plt.figaspect(0.2))\n",
    "ax1 = fig.add_subplot(1, 2, 1)\n",
    "ax1.plot(training_loss,'r')\n",
    "plt.ylabel('Average loss per batch')\n",
    "ax1.axes.get_xaxis().set_ticks([])\n",
    "ax1 = fig.add_subplot(1, 2, 2)\n",
    "ax1.plot(training_accuracy)\n",
    "plt.ylabel('Average accuracy per batch')\n",
    "ax1.axes.get_xaxis().set_ticks([])\n",
    "plt.show()"
   ]
  },
  {
   "cell_type": "markdown",
   "metadata": {},
   "source": [
    "### Evaluate the CNN on the test set\n",
    "\n",
    "Now we can see how our network performs on the test set. For this, we will compute the accuracy for the test set as well as the accuracy for each class in order to see whether the network performs better at recognising certain digits."
   ]
  },
  {
   "cell_type": "code",
   "execution_count": 18,
   "metadata": {},
   "outputs": [
    {
     "name": "stdout",
     "output_type": "stream",
     "text": [
      "Accuracy of the network on the 10,000 test images: 97 %\n",
      "Accuracy of digit 0 : 99 %\n",
      "Accuracy of digit 1 : 100 %\n",
      "Accuracy of digit 2 : 97 %\n",
      "Accuracy of digit 3 : 95 %\n",
      "Accuracy of digit 4 : 99 %\n",
      "Accuracy of digit 5 : 97 %\n",
      "Accuracy of digit 6 : 95 %\n",
      "Accuracy of digit 7 : 97 %\n",
      "Accuracy of digit 8 : 97 %\n",
      "Accuracy of digit 9 : 95 %\n"
     ]
    }
   ],
   "source": [
    "# Compute classification accuracy for the entire test set\n",
    "correct_pred = 0\n",
    "total_pred = 0\n",
    "\n",
    "# Loop over the mini batches of the test set\n",
    "for test_data in test_set_loader:\n",
    "    test_images, test_labels = test_data\n",
    "    # Compute the predictions\n",
    "    outputs = net.forward(Variable(test_images))\n",
    "    dummy, predicted_labels = torch.max(outputs.data, 1)\n",
    "    # Count the correct predictions\n",
    "    correct_pred += (predicted_labels == test_labels).sum()\n",
    "    total_pred += predicted_labels.size(0)\n",
    "       \n",
    "print('Accuracy of the network on the 10,000 test images: %d %%' \n",
    "      % ( 100 * correct_pred / total_pred))\n",
    "\n",
    "# Compute classification accuracy for each class\n",
    "class_correct = list(0. for i in range(10))\n",
    "class_total = list(0. for i in range(10))\n",
    "# Loop over the mini batches of the test set\n",
    "for test_data in test_set_loader:\n",
    "    \n",
    "    test_images, test_labels = test_data\n",
    "    \n",
    "    # Compute the predictions\n",
    "    outputs = net.forward(Variable(test_images))\n",
    "    dummy, pred_labels = torch.max(outputs.data, 1)\n",
    "    \n",
    "    # Count the correct predictions\n",
    "    correct = (pred_labels == test_labels).squeeze()\n",
    "    for i in range(10):\n",
    "        label = test_labels[i]\n",
    "        class_correct[label] += correct[i]\n",
    "        class_total[label] +=1\n",
    "\n",
    "for i in range(10):\n",
    "    print('Accuracy of digit %d : %2d %%' % ( i, \n",
    "                                             100 * class_correct[i].item()/class_total[i]))\n",
    "    "
   ]
  },
  {
   "cell_type": "markdown",
   "metadata": {},
   "source": [
    "### Visualize some example results\n",
    "\n",
    "Finally, we can visualise some examples from the test set and compare the correct and the predicted labels."
   ]
  },
  {
   "cell_type": "code",
   "execution_count": 19,
   "metadata": {},
   "outputs": [
    {
     "data": {
      "image/png": "[encoded data removed]",
      "text/plain": [
       "<Figure size 432x288 with 1 Axes>"
      ]
     },
     "metadata": {
      "needs_background": "light"
     },
     "output_type": "display_data"
    },
    {
     "name": "stdout",
     "output_type": "stream",
     "text": [
      "  Correct Label:      3     7     3     2     2     0     5     0     3     4\n",
      "Predicted Label:      3     7     3     2     2     0     5     0     3     4\n"
     ]
    }
   ],
   "source": [
    "# Pick a random batch & extract the corect labels\n",
    "data_iterator = iter(test_set_loader)\n",
    "images, correct_labels = data_iterator.next()\n",
    "\n",
    "# Compute the predicted label\n",
    "outputs = net.forward(Variable(images))\n",
    "dummy, predicted_labels = torch.max(outputs.data, 1)\n",
    "\n",
    "# print images\n",
    "show_image(torchvision.utils.make_grid(images[0:10], 10))\n",
    "plt.show()\n",
    "print('  Correct Label: ', ' '.join('%5s' % correct_labels[j].item() for j in range(10)))\n",
    "print('Predicted Label: ', ' '.join('%5s' % predicted_labels[j].item() for j in range(10)))"
   ]
  }
 ],
 "metadata": {
  "kernelspec": {
   "display_name": "Python 3",
   "language": "python",
   "name": "python3"
  },
  "language_info": {
   "codemirror_mode": {
    "name": "ipython",
    "version": 3
   },
   "file_extension": ".py",
   "mimetype": "text/x-python",
   "name": "python",
   "nbconvert_exporter": "python",
   "pygments_lexer": "ipython3",
   "version": "3.7.0"
  }
 },
 "nbformat": 4,
 "nbformat_minor": 2
}
