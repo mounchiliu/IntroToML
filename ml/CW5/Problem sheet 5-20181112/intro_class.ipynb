{
 "cells": [
  {
   "cell_type": "code",
   "execution_count": null,
   "metadata": {
    "collapsed": true
   },
   "outputs": [],
   "source": []
  },
  {
   "cell_type": "markdown",
   "metadata": {},
   "source": [
    "<h1>A very basic introduction to classes in python</h1>\n",
    "\n",
    "This is for the students that are not familiar with class structures in python, if you feel that you know enough you can skip this part and move to the assignment itself, otherwise take the time to go through the explanations and play with the toy example below.\n",
    "\n",
    "\"Classes provide a means of bundling data and functionality together. Creating a new class creates a new type of object, allowing new instances of that type to be made. Each class instance can have attributes attached to it for maintaining its state. Class instances can also have methods (defined by its class) for modifying its state.\" (dixit python documentation). \n",
    "\n",
    "<h2> Defining a class </h2>\n",
    "A class contains attributes and methods. The former corresponding to internal variables of the class and the later corresponding to functions that typically use/modify the attributes. To illustrate the workings of a class, we use a toy example: class <b>Operations</b> that can apply operators (addition, subtraction, multiplication, and division) to its only attribute <b>attribute</b>, a number. Our class has five methods: <b>\\_\\_init\\_\\_(.)</b>, <b>add(.)</b>, <b>subtract(.)</b>, <b>multiply(.)</b>, and <b>divide(.)</b>. The first one is used by python to initialise an instance of the class when creating it, the other four corresponds to methods that modify the class attribute using four different operators. All of the methods only require one input arguments.\n",
    "\n",
    "The python keyword <b>self</b> is only used INTERNALLY in a class to define and refer to the internal attributes and methods of the class. To create a class's attribute use the syntax <b>self.name_of_attribute = ...</b> and to define a class's method use the syntax <b>def method(self,other_args)</b>. To access a class's attribute internally use <b>self.name_of_attribute</b>. Similarly to call a method internally use <b>self.name_of_method_to_call(args)</b>.\n",
    "\n",
    "<h2> Using a class </h2>\n",
    "To create an instance of a class use the syntax <b>variable = ClassName(input_args)</b> which associate to <b>variable</b> an instance of the class <b>ClassName</b>. Here, python automatically calls the method <b>__init__(input_args)</b> to typically initialise the attributes of the class. A method <b>__init__(input_args)</b> should be defined in any class (for those familiar with C++ this corresponds to a constructor method) and might take any number of arguments as <b>input_args</b>. In our toy example, the method <b>__init__(input_number)</b> requires only an input number to initialise the attribute. The others methods can be used to modify our attribute, they all require an external input corresponding to the number to add to, subtract from, multiply with, or divide with the internal attribute of our class.\n",
    "\n",
    "To retrieve an attribute or call a method of an instance of a class, much like calling function from a library imported, python use the dot <b>.</b> operator: <b>class_instance.method(method_args)</b>. Note that when calling a method, the keyword <b>self</b> should NOT be passed as argument (it is implied with the <b>.</b>).\n",
    "\n",
    "We provide below a few lines of codes defining the class <b>Operations</b> as well as a few lines showcasing it. Feel free to play with it to make sure you understand what is happening. Once you feel like you have a good grasp of how it works, you should be able to complete the assignment. However, note that this remains a very superficial introduction to class in python, if you are interested to look into object oriented programming with python we refer you to the python documentation on classes https://docs.python.org/3/tutorial/classes.html."
   ]
  },
  {
   "cell_type": "code",
   "execution_count": 24,
   "metadata": {},
   "outputs": [
    {
     "name": "stdout",
     "output_type": "stream",
     "text": [
      "Adding input 3 to attribute 2\n",
      "New attribute: 5\n",
      "Subtracting input 1 from attribute 5\n",
      "New attribute: 4\n",
      "Multiplying attribute 4 with input 2\n",
      "New attribute: 8\n",
      "Dividing attribute 8 by input 4\n",
      "New attribute: 2.0\n"
     ]
    }
   ],
   "source": [
    "#############################################################################################################\n",
    "## Definitions of our toy class\n",
    "class Operations:\n",
    "    \n",
    "    # Initialisation funtion\n",
    "    def __init__(self,input_number):\n",
    "        # Initialisation of our class' only attribute\n",
    "        self.attribute = input_number\n",
    "        \n",
    "    # Methods    \n",
    "    def add(self,a):\n",
    "        print(\"Adding input\",a,\"to attribute\",self.attribute)\n",
    "        self.attribute += a\n",
    "        \n",
    "    def subtract(self,b):\n",
    "        print(\"Subtracting input\",b,\"from attribute\",self.attribute)\n",
    "        self.attribute -= b\n",
    "        \n",
    "    def multiply(self,c):\n",
    "        print(\"Multiplying attribute\",self.attribute,\"with input\",c)\n",
    "        self.attribute *= c\n",
    "        \n",
    "    def divide(self,d):\n",
    "        print(\"Dividing attribute\",self.attribute,\"by input\",d)\n",
    "        self.attribute /= d\n",
    "\n",
    "#############################################################################################################\n",
    "## Testing the toy class\n",
    "class_instance = Operations(2) # Creation of an instance of our class \"operations\" with initial attribute \"2\"\n",
    "\n",
    "class_instance.add(3) # Calling add method\n",
    "print(\"New attribute:\",class_instance.attribute)\n",
    "\n",
    "class_instance.subtract(1) # Calling subtract method\n",
    "print(\"New attribute:\",class_instance.attribute)\n",
    "\n",
    "class_instance.multiply(2) # Calling multiply method\n",
    "print(\"New attribute:\",class_instance.attribute)\n",
    "\n",
    "class_instance.divide(4) # Calling divide method\n",
    "print(\"New attribute:\",class_instance.attribute)\n"
   ]
  },
  {
   "cell_type": "code",
   "execution_count": null,
   "metadata": {
    "collapsed": true
   },
   "outputs": [],
   "source": []
  },
  {
   "cell_type": "code",
   "execution_count": null,
   "metadata": {
    "collapsed": true
   },
   "outputs": [],
   "source": []
  }
 ],
 "metadata": {
  "kernelspec": {
   "display_name": "Python 3",
   "language": "python",
   "name": "python3"
  },
  "language_info": {
   "codemirror_mode": {
    "name": "ipython",
    "version": 3
   },
   "file_extension": ".py",
   "mimetype": "text/x-python",
   "name": "python",
   "nbconvert_exporter": "python",
   "pygments_lexer": "ipython3",
   "version": "3.6.6"
  }
 },
 "nbformat": 4,
 "nbformat_minor": 2
}
